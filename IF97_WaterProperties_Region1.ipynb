{
 "cells": [
  {
   "cell_type": "markdown",
   "id": "299f93d9-4c5f-4121-8170-d13daf209612",
   "metadata": {},
   "source": [
    "# Pure water property by The IAPWS Industrial Formulation 1997 (IAPWS-IF97) in Region 1\n",
    "### Region 1 covers the following temperatures and pressures:\n",
    "### 273.15 K ≦ T ≦ 623.15 K, Ps(T) ≦ P ≦ 100 MPa, where Ps(T) indicate saturation pressure as a function of temperature"
   ]
  },
  {
   "cell_type": "code",
   "execution_count": null,
   "id": "e7cd1fbf-087b-40a0-a91b-548bb189a59a",
   "metadata": {},
   "outputs": [],
   "source": [
    "import numpy as np\n",
    "import pandas as pd"
   ]
  },
  {
   "cell_type": "markdown",
   "id": "d624f107-58d2-4fde-a546-54174c853750",
   "metadata": {},
   "source": [
    "## Density and Heat capacity\n",
    "### See Wagner et al. (2000) for more details"
   ]
  },
  {
   "cell_type": "code",
   "execution_count": null,
   "id": "6ffd86c0-1d3c-4954-89bf-49076852da44",
   "metadata": {},
   "outputs": [],
   "source": [
    "def Coef_IF97_Eq15_Region1(i):\n",
    "    if i == 1:\n",
    "        Ii = 0; Ji = -2; ni = 0.14632971213167\n",
    "    elif i == 2:\n",
    "        Ii = 0; Ji = -1; ni = -0.84548187169114\n",
    "    elif i == 3:\n",
    "        Ii = 0; Ji = 0; ni = -0.37563603672040*10\n",
    "    elif i == 4:\n",
    "        Ii = 0; Ji = 1; ni = 0.33855169168385*10\n",
    "    elif i == 5:\n",
    "        Ii = 0; Ji = 2; ni = -0.95791963387872\n",
    "    elif i == 6:\n",
    "        Ii = 0; Ji = 3; ni = 0.15772038513228\n",
    "    elif i == 7:\n",
    "        Ii = 0; Ji = 4; ni = -0.16616417199501*10**(-1)\n",
    "    elif i == 8:\n",
    "        Ii = 0; Ji = 5; ni = 0.81214629983568*10**(-3)\n",
    "    elif i == 9:\n",
    "        Ii = 1; Ji = -9; ni = 0.28319080123804*10**(-3)\n",
    "    elif i == 10:\n",
    "        Ii = 1; Ji = -7; ni = -0.60706301565874*10**(-3)\n",
    "    elif i == 11:\n",
    "        Ii = 1; Ji = -1; ni = -0.18990068218419*10**(-1)\n",
    "    elif i == 12:\n",
    "        Ii = 1; Ji = 0; ni = -0.32529748770505*10**(-1)\n",
    "    elif i == 13:\n",
    "        Ii = 1; Ji = 1; ni = -0.21841717175414*10**(-1)\n",
    "    elif i == 14:\n",
    "        Ii = 1; Ji = 3; ni = -0.52838357969930*10**(-4)\n",
    "    elif i == 15:\n",
    "        Ii = 2; Ji = -3; ni = -0.47184321073267*10**(-3)\n",
    "    elif i == 16:\n",
    "        Ii = 2; Ji = 0; ni = -0.30001780793026*10**(-3)\n",
    "    elif i == 17:\n",
    "        Ii = 2; Ji = 1; ni = 0.47661393906987*10**(-4)\n",
    "    elif i == 18:\n",
    "        Ii = 2; Ji = 3; ni = -0.44141845330846*10**(-5)\n",
    "    elif i == 19:\n",
    "        Ii = 2; Ji = 17; ni = -0.72694996297594*10**(-15)\n",
    "    elif i == 20:\n",
    "        Ii = 3; Ji = -4; ni = -0.31679644845054*10**(-4)\n",
    "    elif i == 21:\n",
    "        Ii = 3; Ji = 0; ni = -0.28270797985312*10**(-5)\n",
    "    elif i == 22:\n",
    "        Ii = 3; Ji = 6; ni = -0.85205128120103*10**(-9)\n",
    "    elif i == 23:\n",
    "        Ii = 4; Ji = -5; ni = -0.22425281908000*10**(-5)\n",
    "    elif i == 24:\n",
    "        Ii = 4; Ji = -2; ni = -0.65171222895601*10**(-6)\n",
    "    elif i == 25:\n",
    "        Ii = 4; Ji = 10; ni = -0.14341729937924*10**(-12)\n",
    "    elif i == 26:\n",
    "        Ii = 5; Ji = -8; ni = -0.40516996860117*10**(-6)\n",
    "    elif i == 27:\n",
    "        Ii = 8; Ji = -11; ni = -0.12734301741641*10**(-8)\n",
    "    elif i == 28:\n",
    "        Ii = 8; Ji = -6; ni = -0.17424871230634*10**(-9)\n",
    "    elif i == 29:\n",
    "        Ii = 21; Ji = -29; ni = -0.68762131295531*10**(-18)\n",
    "    elif i == 30:\n",
    "        Ii = 23; Ji = -31; ni = 0.14478307828521*10**(-19)\n",
    "    elif i == 31:\n",
    "        Ii = 29; Ji = -38; ni = 0.26335781662795*10**(-22)\n",
    "    elif i == 32:\n",
    "        Ii = 30; Ji = -39; ni = -0.11947622640071*10**(-22)\n",
    "    elif i == 33:\n",
    "        Ii = 31; Ji = -40; ni = 0.18228094581404*10**(-23)\n",
    "    elif i == 34:\n",
    "        Ii = 32; Ji = -41; ni = -0.93537087292458*10**(-25)\n",
    "    return Ii, Ji, ni\n",
    "\n",
    "# Region 1\n",
    "def IF97_SpecificVol_Region1(Tdeg,pMPa):\n",
    "    gamma_pi = 0.0\n",
    "    R = 0.461526*10**(-3) # Specific gas constant [kJ/(g*K)]\n",
    "    TK = Tdeg + 273\n",
    "    tau = 1386/TK\n",
    "    ppi = pMPa/16.53\n",
    "    for i in range(1,35):\n",
    "        Ii, Ji, ni = Coef_IF97_Eq15_Region1(i)\n",
    "        gamma_pi = gamma_pi - ni*Ii*((7.1-ppi)**(Ii-1))*((tau-1.222)**Ji)\n",
    "    svol = ppi*gamma_pi*R*TK/pMPa\n",
    "    return svol\n",
    "\n",
    "# Region 1\n",
    "def IF97_SpecificCp_Region1(Tdeg,pMPa):\n",
    "    gamma_tautau = 0.0\n",
    "    R = 0.461526 # Specific gas constant [kJ/(kg*K)]\n",
    "    TK = Tdeg + 273\n",
    "    tau = 1386/TK\n",
    "    ppi = pMPa/16.53\n",
    "    for i in range(1,35):\n",
    "        Ii, Ji, ni = self.Coef_IF97_Eq15_Region1(i)\n",
    "        gamma_tautau = gamma_tautau + ni*((7.1-ppi)**Ii)*Ji*(Ji-1)*(tau-1.222)**(Ji-2)\n",
    "    scp = -R*(tau**2)*gamma_tautau\n",
    "    return scp*10**3"
   ]
  },
  {
   "cell_type": "code",
   "execution_count": null,
   "id": "32273c36-67ee-4998-9ed1-dbb5516aea68",
   "metadata": {},
   "outputs": [],
   "source": [
    "# Specify temperature [deg] ad pressure [MPa]\n",
    "Tdeg = 200; pMPa = 15"
   ]
  },
  {
   "cell_type": "code",
   "execution_count": null,
   "id": "f5c9a71a-0930-4815-a55a-63146fe37fbf",
   "metadata": {},
   "outputs": [],
   "source": [
    "print('#--- Density [kg*m3]')\n",
    "print('Implemented:',1.0/IF97_SpecificVol_Region1(Tdeg,pMPa))\n",
    "print('#--- Specific Heat Capacity [kJ/(kg*K)]')\n",
    "print('Implemented:',IF97_SpecificCp_Region1(Tdeg,pMPa))"
   ]
  },
  {
   "cell_type": "markdown",
   "id": "0e06af6f",
   "metadata": {},
   "source": [
    "## Visosity by Huber et al."
   ]
  },
  {
   "cell_type": "code",
   "execution_count": null,
   "id": "8b597baf",
   "metadata": {},
   "outputs": [],
   "source": [
    "def Huber_viscosity(Tdeg,pMPa):\n",
    "    H0 = [5.20094*10**(-1), 2.22531*10**(-1), -2.81378*10**(-1), 1.61913*10**(-1), -3.25372*10**(-2), 0.0, 0.0]\n",
    "    H1 = [8.50895*10**(-2), 9.99115*10**(-1), -9.06851*10**(-1), 2.57399*10**(-1), 0.0, 0.0, 0.0]\n",
    "    H2 = [-1.08374, 1.88797, -7.72479*10**(-1), 0.0, 0.0, 0.0, 0.0]\n",
    "    H3 = [-2.89555*10**(-1), 1.26613, -4.89837*10**(-1), 0.0, 6.98452*10**(-2), 0.0, -4.35673*10**(-3)]\n",
    "    H4 = [0.0, 0.0, -2.57040*10**(-1), 0.0, 0.0, 8.72102*10**(-3), 0.0]\n",
    "    H5 = [0.0, 1.20573*10**(-1), 0.0, 0.0, 0.0, 0.0, -5.93264*10**(-4)]\n",
    "    H = [H0, H1, H2, H3, H4, H5]\n",
    "    #\n",
    "    TK = Tdeg + 273.15\n",
    "    That = TK / 647.096\n",
    "    cof0 = 1.67752 / That**0\n",
    "    cof1 = 2.20462 / That**1\n",
    "    cof2 = 0.6366564 / That**2\n",
    "    cof3 = -0.241605 / That**3\n",
    "    cof = cof0 + cof1 + cof2 + cof3\n",
    "    myu0 = 100.0 * np.sqrt(That) / cof\n",
    "    rou =  1.0/IF97_SpecificVol_Region1(Tdeg,pMPa)\n",
    "    rouhat = rou / 322.0\n",
    "    myu1tp = 0.0\n",
    "    for ii in range(0,6):\n",
    "        Hsum = 0.0\n",
    "        for jj in range(0,7):\n",
    "            Hsum += H[ii][jj] * (rouhat-1)**jj\n",
    "        myu1tp += ((1/That-1)**ii) * Hsum\n",
    "    myu1 = np.exp(rouhat*myu1tp)\n",
    "    Visco = myu0 * myu1\n",
    "    return Visco*10**(-6)\n",
    "\n",
    "def CoolProp_water_viscosity(Tdeg,pMPa):\n",
    "    TK = Tdeg + 273\n",
    "    pPa = pMPa*10**6\n",
    "    vis =  PropsSI('V','T',TK,'P',pPa,'IF97::Water')\n",
    "    return vis"
   ]
  },
  {
   "cell_type": "code",
   "execution_count": null,
   "id": "557dae1c",
   "metadata": {},
   "outputs": [],
   "source": [
    "# Specify temperature [deg] ad pressure [MPa]\n",
    "Tdeg = 200; pMPa = 10"
   ]
  },
  {
   "cell_type": "code",
   "execution_count": null,
   "id": "8af5c44c",
   "metadata": {},
   "outputs": [],
   "source": [
    "print('#--- Viscosity [Pa*s]')\n",
    "print('Implemented:',Huber_viscosity(Tdeg,pMPa))"
   ]
  }
 ],
 "metadata": {
  "kernelspec": {
   "display_name": "Python 3 (ipykernel)",
   "language": "python",
   "name": "python3"
  },
  "language_info": {
   "codemirror_mode": {
    "name": "ipython",
    "version": 3
   },
   "file_extension": ".py",
   "mimetype": "text/x-python",
   "name": "python",
   "nbconvert_exporter": "python",
   "pygments_lexer": "ipython3",
   "version": "3.11.8"
  }
 },
 "nbformat": 4,
 "nbformat_minor": 5
}
